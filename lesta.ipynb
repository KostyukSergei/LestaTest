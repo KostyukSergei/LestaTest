{
 "cells": [
  {
   "cell_type": "markdown",
   "metadata": {},
   "source": [
    "# №1"
   ]
  },
  {
   "cell_type": "markdown",
   "metadata": {},
   "source": [
    "Это то что пришло в голову мне. Вроде такой подход считается медленнее, потому что != это две операции."
   ]
  },
  {
   "cell_type": "code",
   "execution_count": 97,
   "metadata": {},
   "outputs": [],
   "source": [
    "def isEven1(value):\n",
    "    \n",
    "    return value // 2 != 1"
   ]
  },
  {
   "cell_type": "markdown",
   "metadata": {},
   "source": [
    "На stackoverflow подсмотрел побитовый вариант. Говорят, он быстрее."
   ]
  },
  {
   "cell_type": "code",
   "execution_count": 18,
   "metadata": {},
   "outputs": [],
   "source": [
    "def isEven2(value):\n",
    "    \n",
    "    return value & 1 == 0"
   ]
  },
  {
   "cell_type": "code",
   "execution_count": 98,
   "metadata": {},
   "outputs": [
    {
     "data": {
      "text/plain": [
       "True"
      ]
     },
     "execution_count": 98,
     "metadata": {},
     "output_type": "execute_result"
    }
   ],
   "source": [
    "isEven1(366)"
   ]
  },
  {
   "cell_type": "markdown",
   "metadata": {},
   "source": [
    "# №2"
   ]
  },
  {
   "cell_type": "markdown",
   "metadata": {},
   "source": [
    "Как я понял, от меня требуется обычная очередь с зацикленной индексацией."
   ]
  },
  {
   "cell_type": "code",
   "execution_count": 77,
   "metadata": {},
   "outputs": [],
   "source": [
    "class FIFO1:\n",
    "\n",
    "    def __init__(self, queue=[]):\n",
    "        if type(queue) is list:\n",
    "            self.queue = queue\n",
    "        else:\n",
    "            self.queue = [queue]\n",
    "        self.pointer = len(self.queue) - 1\n",
    "\n",
    "    def next(self):\n",
    "        self.pointer += 1\n",
    "        if self.pointer >= len(self.queue):\n",
    "            self.pointer = 0\n",
    "        if len(self.queue) == 0:\n",
    "            self.pointer = -1\n",
    "    \n",
    "    def previous(self):\n",
    "        if self.queue:\n",
    "            self.pointer -= 1\n",
    "            if self.pointer < 0:\n",
    "                self.pointer = len(self.queue) - 1\n",
    "\n",
    "    def append(self, *items):\n",
    "        for item in items:\n",
    "            self.queue.insert(self.pointer + 1, item)\n",
    "            self.next()\n",
    "\n",
    "    def pop(self):\n",
    "        return self.queue.pop(self.pointer)\n",
    "    \n",
    "    def get(self):\n",
    "        return self.queue[self.pointer]\n",
    "    \n",
    "    def print(self):\n",
    "        print(self.queue)\n",
    "    \n",
    "    def __getitem__(self, key):\n",
    "        return self.queue[key]"
   ]
  },
  {
   "cell_type": "code",
   "execution_count": 78,
   "metadata": {},
   "outputs": [],
   "source": [
    "f = FIFO1()"
   ]
  },
  {
   "cell_type": "code",
   "execution_count": 79,
   "metadata": {},
   "outputs": [
    {
     "name": "stdout",
     "output_type": "stream",
     "text": [
      "1\n",
      "4\n",
      "3\n",
      "[4, 2, 4, 3, 2, 1, 1]\n"
     ]
    }
   ],
   "source": [
    "f.append(4,3,2,1)\n",
    "f.previous()\n",
    "f.append(4,3,2,1)\n",
    "f.next()\n",
    "print(f.get())\n",
    "f.next()\n",
    "print(f.get())\n",
    "f.next()\n",
    "print(f.pop())\n",
    "f.print()"
   ]
  },
  {
   "cell_type": "markdown",
   "metadata": {},
   "source": [
    "Можно попробовать вместо массива хранить данные в виде связного списка. Но кажется, что это адекватно смотрится на C++, а не на Питоне."
   ]
  },
  {
   "cell_type": "code",
   "execution_count": 35,
   "metadata": {},
   "outputs": [],
   "source": [
    "class FIFO2:\n",
    "\n",
    "    class Node:\n",
    "        def __init__(self, item):\n",
    "            self.item = item\n",
    "            self.next = self\n",
    "            self.prev = self\n",
    "\n",
    "    def __init__(self, item=None):\n",
    "        if item is None:\n",
    "            self.start = None\n",
    "        else:\n",
    "            self.start = self.Node(item)\n",
    "        self.pointer = self.start\n",
    "\n",
    "    def next(self):\n",
    "        if self.pointer is not None:\n",
    "            self.pointer = self.pointer.next\n",
    "    \n",
    "    def previous(self):\n",
    "        if self.pointer is not None:\n",
    "            self.pointer = self.pointer.prev\n",
    "\n",
    "    def append(self, *items):\n",
    "        if self.pointer is None:\n",
    "            self.start = self.Node(items[0])\n",
    "            self.pointer = self.start\n",
    "            new_items = items[1:]\n",
    "        else:\n",
    "            new_items = items\n",
    "        for item in new_items:\n",
    "            new = self.Node(item)\n",
    "            new.next = self.pointer.next\n",
    "            new.prev = self.pointer\n",
    "            self.pointer = new\n",
    "            new.prev.next = new\n",
    "            new.next.prev = new\n",
    "\n",
    "    def pop(self):\n",
    "        node = self.pointer\n",
    "        self.pointer = node.next\n",
    "        node.prev.next = node.next\n",
    "        node.next.prev = node.prev\n",
    "        return node.item\n",
    "    \n",
    "    def get(self):\n",
    "        return self.pointer.item\n",
    "    \n",
    "    def print(self):\n",
    "        if self.pointer is None:\n",
    "            return\n",
    "        node = self.start\n",
    "        print(node.item, end=' ')\n",
    "        node = node.next\n",
    "        while node != self.start:\n",
    "            print(node.item, end=' ')\n",
    "            node = node.next"
   ]
  },
  {
   "cell_type": "code",
   "execution_count": 36,
   "metadata": {},
   "outputs": [],
   "source": [
    "f = FIFO2()"
   ]
  },
  {
   "cell_type": "code",
   "execution_count": 37,
   "metadata": {},
   "outputs": [
    {
     "name": "stdout",
     "output_type": "stream",
     "text": [
      "1\n",
      "4\n",
      "3\n",
      "4 2 4 3 2 1 1 "
     ]
    }
   ],
   "source": [
    "f.append(4,3,2,1)\n",
    "f.previous()\n",
    "f.append(4,3,2,1)\n",
    "f.next()\n",
    "print(f.get())\n",
    "f.next()\n",
    "print(f.get())\n",
    "f.next()\n",
    "print(f.pop())\n",
    "f.print()"
   ]
  },
  {
   "cell_type": "markdown",
   "metadata": {},
   "source": [
    "# №3"
   ]
  },
  {
   "cell_type": "markdown",
   "metadata": {},
   "source": [
    "Будто бы есть несколько сортировок, считающих в среднем за O(n*log(n)), но не быстрее. Давайте вспомним Quick sort."
   ]
  },
  {
   "cell_type": "code",
   "execution_count": 26,
   "metadata": {},
   "outputs": [],
   "source": [
    "def qsort(arr):\n",
    "    if not arr:\n",
    "        return []\n",
    "    pivot = arr[len(arr) // 2]\n",
    "    first = []\n",
    "    last = []\n",
    "    for i in arr[:len(arr) // 2]:\n",
    "        if i < pivot:\n",
    "            first.append(i)\n",
    "        else:\n",
    "            last.append(i)\n",
    "    for i in arr[len(arr) // 2 + 1:]:\n",
    "        if i < pivot:\n",
    "            first.append(i)\n",
    "        else:\n",
    "            last.append(i)\n",
    "    return qsort(first) + [pivot] + qsort(last)"
   ]
  },
  {
   "cell_type": "code",
   "execution_count": 2,
   "metadata": {},
   "outputs": [],
   "source": [
    "from numpy.random import randint"
   ]
  },
  {
   "cell_type": "code",
   "execution_count": 29,
   "metadata": {},
   "outputs": [
    {
     "name": "stdout",
     "output_type": "stream",
     "text": [
      "[2, 2, 1, 4, 2, 5, 7, 9, 9, 6]\n",
      "[1, 2, 2, 2, 4, 5, 6, 7, 9, 9]\n"
     ]
    }
   ],
   "source": [
    "arr = list(randint(10, size=10))\n",
    "print(arr)\n",
    "print(qsort(arr))"
   ]
  }
 ],
 "metadata": {
  "kernelspec": {
   "display_name": "tf",
   "language": "python",
   "name": "python3"
  },
  "language_info": {
   "codemirror_mode": {
    "name": "ipython",
    "version": 3
   },
   "file_extension": ".py",
   "mimetype": "text/x-python",
   "name": "python",
   "nbconvert_exporter": "python",
   "pygments_lexer": "ipython3",
   "version": "3.9.18"
  }
 },
 "nbformat": 4,
 "nbformat_minor": 2
}
